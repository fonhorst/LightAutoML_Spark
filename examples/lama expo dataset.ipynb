{
 "cells": [
  {
   "cell_type": "code",
   "execution_count": 1,
   "id": "39969315",
   "metadata": {},
   "outputs": [],
   "source": [
    "import numpy as np\n",
    "import pandas as pd\n",
    "\n",
    "from sklearn.metrics import roc_auc_score\n",
    "from sklearn.model_selection import train_test_split\n",
    "\n",
    "from lightautoml.automl.presets.tabular_presets import TabularAutoML\n",
    "from lightautoml.dataset.roles import DatetimeRole\n",
    "from lightautoml.tasks import Task"
   ]
  },
  {
   "cell_type": "code",
   "execution_count": 2,
   "id": "ad859e99",
   "metadata": {},
   "outputs": [],
   "source": [
    "np.random.seed(42)"
   ]
  },
  {
   "cell_type": "code",
   "execution_count": 3,
   "id": "51df8e6a",
   "metadata": {},
   "outputs": [],
   "source": [
    "data = pd.read_csv(\"/opt/spark_data/expo/1990.csv\")"
   ]
  },
  {
   "cell_type": "code",
   "execution_count": 4,
   "id": "6d38a60a",
   "metadata": {},
   "outputs": [
    {
     "data": {
      "text/plain": [
       "5270893"
      ]
     },
     "execution_count": 4,
     "metadata": {},
     "output_type": "execute_result"
    }
   ],
   "source": [
    "len(data)"
   ]
  },
  {
   "cell_type": "markdown",
   "id": "5643e847",
   "metadata": {},
   "source": [
    "# Target calculation"
   ]
  },
  {
   "cell_type": "code",
   "execution_count": 5,
   "id": "c605c627",
   "metadata": {},
   "outputs": [],
   "source": [
    "data[\"total_delay\"] = data[\"ActualElapsedTime\"] - data[\"CRSElapsedTime\"]"
   ]
  },
  {
   "cell_type": "code",
   "execution_count": 6,
   "id": "498b2d90",
   "metadata": {},
   "outputs": [
    {
     "data": {
      "text/plain": [
       "0   -5.0\n",
       "1    8.0\n",
       "2   -7.0\n",
       "3   -8.0\n",
       "4    3.0\n",
       "Name: total_delay, dtype: float64"
      ]
     },
     "execution_count": 6,
     "metadata": {},
     "output_type": "execute_result"
    }
   ],
   "source": [
    "data[\"total_delay\"].head()"
   ]
  },
  {
   "cell_type": "code",
   "execution_count": 7,
   "id": "e4e7d1ff",
   "metadata": {},
   "outputs": [
    {
     "data": {
      "text/plain": [
       "Index(['Year', 'Month', 'DayofMonth', 'DayOfWeek', 'DepTime', 'CRSDepTime',\n",
       "       'ArrTime', 'CRSArrTime', 'UniqueCarrier', 'FlightNum', 'TailNum',\n",
       "       'ActualElapsedTime', 'CRSElapsedTime', 'AirTime', 'ArrDelay',\n",
       "       'DepDelay', 'Origin', 'Dest', 'Distance', 'TaxiIn', 'TaxiOut',\n",
       "       'Cancelled', 'CancellationCode', 'Diverted', 'CarrierDelay',\n",
       "       'WeatherDelay', 'NASDelay', 'SecurityDelay', 'LateAircraftDelay',\n",
       "       'total_delay'],\n",
       "      dtype='object')"
      ]
     },
     "execution_count": 7,
     "metadata": {},
     "output_type": "execute_result"
    }
   ],
   "source": [
    "data.columns"
   ]
  },
  {
   "cell_type": "code",
   "execution_count": 8,
   "id": "8e8954c5",
   "metadata": {},
   "outputs": [],
   "source": [
    "\n",
    "\n",
    "# a = df.sample(10000, random_state=1)\n",
    "# b = pd.merge(a, airport_df, left_on=\"Origin\", right_on=\"iata\")\n",
    "# c = pd.merge(b, airport_df, left_on=\"Dest\", right_on=\"iata\")\n",
    "# c.rename(columns={\"lat_x\": \"origin_lat\", \"long_x\": \"origin_long\", \"lat_y\": \"dest_lat\", \"long_y\": \"dest_long\"}, inplace=True)\n",
    "\n",
    "# features = [\"Year\", \"Month\", \"DayOfWeek\", \"CRSDepTime\", \"CRSArrTime\", \"CRSElapsedTime\", \"Distance\", \"origin_lat\", \"origin_long\", \"dest_lat\", \"dest_long\"]\n",
    "# model_df = c[features]\n",
    "# model_df[\"total_delay\"] = np.where(c[\"total_delay\"] > 0, 1, 0)\n",
    "# model_df.dropna(inplace=True)\n",
    "\n",
    "data[\"total_delay\"] = np.where(data[\"total_delay\"] > 0, 1, 0)\n",
    "\n",
    "\n"
   ]
  },
  {
   "cell_type": "code",
   "execution_count": 9,
   "id": "0b40ae37",
   "metadata": {},
   "outputs": [
    {
     "data": {
      "text/plain": [
       "0    0\n",
       "1    1\n",
       "2    0\n",
       "3    0\n",
       "4    1\n",
       "Name: total_delay, dtype: int64"
      ]
     },
     "execution_count": 9,
     "metadata": {},
     "output_type": "execute_result"
    }
   ],
   "source": [
    "data[\"total_delay\"].head()"
   ]
  },
  {
   "cell_type": "code",
   "execution_count": 10,
   "id": "a4956ae8",
   "metadata": {},
   "outputs": [
    {
     "data": {
      "text/plain": [
       "Index(['Year', 'Month', 'DayofMonth', 'DayOfWeek', 'DepTime', 'CRSDepTime',\n",
       "       'ArrTime', 'CRSArrTime', 'UniqueCarrier', 'FlightNum', 'TailNum',\n",
       "       'ActualElapsedTime', 'CRSElapsedTime', 'AirTime', 'ArrDelay',\n",
       "       'DepDelay', 'Origin', 'Dest', 'Distance', 'TaxiIn', 'TaxiOut',\n",
       "       'Cancelled', 'CancellationCode', 'Diverted', 'CarrierDelay',\n",
       "       'WeatherDelay', 'NASDelay', 'SecurityDelay', 'LateAircraftDelay',\n",
       "       'total_delay'],\n",
       "      dtype='object')"
      ]
     },
     "execution_count": 10,
     "metadata": {},
     "output_type": "execute_result"
    }
   ],
   "source": [
    "data.columns"
   ]
  },
  {
   "cell_type": "code",
   "execution_count": 11,
   "id": "3c2abf18",
   "metadata": {},
   "outputs": [],
   "source": [
    "processed_data = data.drop([\"ActualElapsedTime\"], axis=1)"
   ]
  },
  {
   "cell_type": "code",
   "execution_count": 12,
   "id": "8be0e55e",
   "metadata": {},
   "outputs": [
    {
     "data": {
      "text/plain": [
       "Index(['Year', 'Month', 'DayofMonth', 'DayOfWeek', 'DepTime', 'CRSDepTime',\n",
       "       'ArrTime', 'CRSArrTime', 'UniqueCarrier', 'FlightNum', 'TailNum',\n",
       "       'CRSElapsedTime', 'AirTime', 'ArrDelay', 'DepDelay', 'Origin', 'Dest',\n",
       "       'Distance', 'TaxiIn', 'TaxiOut', 'Cancelled', 'CancellationCode',\n",
       "       'Diverted', 'CarrierDelay', 'WeatherDelay', 'NASDelay', 'SecurityDelay',\n",
       "       'LateAircraftDelay', 'total_delay'],\n",
       "      dtype='object')"
      ]
     },
     "execution_count": 12,
     "metadata": {},
     "output_type": "execute_result"
    }
   ],
   "source": [
    "processed_data.columns"
   ]
  },
  {
   "cell_type": "code",
   "execution_count": 13,
   "id": "d83eae1d",
   "metadata": {},
   "outputs": [],
   "source": [
    "# Year, Month, DayOfWeek, CRSDepTime, CRSArrTime, CRSElapsedTime, \n",
    "# Distance, origin_lat, origin_long, dest_lat, dest_long\n",
    "\n",
    "processed_data = processed_data[['Year', 'Month', 'DayOfWeek', \n",
    "                                 'CRSDepTime', 'CRSArrTime', 'CRSElapsedTime', \n",
    "                                 'Distance', 'total_delay']]\n",
    "\n",
    "\n"
   ]
  },
  {
   "cell_type": "code",
   "execution_count": 14,
   "id": "9bd401d6",
   "metadata": {},
   "outputs": [],
   "source": [
    "train, test = train_test_split(processed_data, test_size=1000_000, random_state=42)"
   ]
  },
  {
   "cell_type": "code",
   "execution_count": 15,
   "id": "078147aa",
   "metadata": {},
   "outputs": [
    {
     "name": "stdout",
     "output_type": "stream",
     "text": [
      "4270893\n",
      "1000000\n"
     ]
    }
   ],
   "source": [
    "print(len(train))\n",
    "print(len(test))"
   ]
  },
  {
   "cell_type": "code",
   "execution_count": 16,
   "id": "c89acbc7",
   "metadata": {},
   "outputs": [
    {
     "data": {
      "text/html": [
       "<div>\n",
       "<style scoped>\n",
       "    .dataframe tbody tr th:only-of-type {\n",
       "        vertical-align: middle;\n",
       "    }\n",
       "\n",
       "    .dataframe tbody tr th {\n",
       "        vertical-align: top;\n",
       "    }\n",
       "\n",
       "    .dataframe thead th {\n",
       "        text-align: right;\n",
       "    }\n",
       "</style>\n",
       "<table border=\"1\" class=\"dataframe\">\n",
       "  <thead>\n",
       "    <tr style=\"text-align: right;\">\n",
       "      <th></th>\n",
       "      <th>Year</th>\n",
       "      <th>Month</th>\n",
       "      <th>DayOfWeek</th>\n",
       "      <th>CRSDepTime</th>\n",
       "      <th>CRSArrTime</th>\n",
       "      <th>CRSElapsedTime</th>\n",
       "      <th>Distance</th>\n",
       "      <th>total_delay</th>\n",
       "    </tr>\n",
       "  </thead>\n",
       "  <tbody>\n",
       "    <tr>\n",
       "      <th>2548738</th>\n",
       "      <td>1990</td>\n",
       "      <td>6</td>\n",
       "      <td>5</td>\n",
       "      <td>900</td>\n",
       "      <td>1007</td>\n",
       "      <td>67</td>\n",
       "      <td>247.0</td>\n",
       "      <td>0</td>\n",
       "    </tr>\n",
       "    <tr>\n",
       "      <th>4774834</th>\n",
       "      <td>1990</td>\n",
       "      <td>11</td>\n",
       "      <td>3</td>\n",
       "      <td>1855</td>\n",
       "      <td>1934</td>\n",
       "      <td>39</td>\n",
       "      <td>106.0</td>\n",
       "      <td>0</td>\n",
       "    </tr>\n",
       "    <tr>\n",
       "      <th>4081781</th>\n",
       "      <td>1990</td>\n",
       "      <td>10</td>\n",
       "      <td>3</td>\n",
       "      <td>1930</td>\n",
       "      <td>2107</td>\n",
       "      <td>217</td>\n",
       "      <td>1494.0</td>\n",
       "      <td>1</td>\n",
       "    </tr>\n",
       "    <tr>\n",
       "      <th>1102728</th>\n",
       "      <td>1990</td>\n",
       "      <td>3</td>\n",
       "      <td>5</td>\n",
       "      <td>1654</td>\n",
       "      <td>1745</td>\n",
       "      <td>51</td>\n",
       "      <td>190.0</td>\n",
       "      <td>0</td>\n",
       "    </tr>\n",
       "    <tr>\n",
       "      <th>5230804</th>\n",
       "      <td>1990</td>\n",
       "      <td>12</td>\n",
       "      <td>6</td>\n",
       "      <td>1856</td>\n",
       "      <td>2015</td>\n",
       "      <td>79</td>\n",
       "      <td>395.0</td>\n",
       "      <td>0</td>\n",
       "    </tr>\n",
       "  </tbody>\n",
       "</table>\n",
       "</div>"
      ],
      "text/plain": [
       "         Year  Month  DayOfWeek  CRSDepTime  CRSArrTime  CRSElapsedTime  \\\n",
       "2548738  1990      6          5         900        1007              67   \n",
       "4774834  1990     11          3        1855        1934              39   \n",
       "4081781  1990     10          3        1930        2107             217   \n",
       "1102728  1990      3          5        1654        1745              51   \n",
       "5230804  1990     12          6        1856        2015              79   \n",
       "\n",
       "         Distance  total_delay  \n",
       "2548738     247.0            0  \n",
       "4774834     106.0            0  \n",
       "4081781    1494.0            1  \n",
       "1102728     190.0            0  \n",
       "5230804     395.0            0  "
      ]
     },
     "execution_count": 16,
     "metadata": {},
     "output_type": "execute_result"
    }
   ],
   "source": [
    "test.head()"
   ]
  },
  {
   "cell_type": "code",
   "execution_count": null,
   "id": "26d7554a",
   "metadata": {},
   "outputs": [],
   "source": []
  },
  {
   "cell_type": "code",
   "execution_count": null,
   "id": "8ffdc3cc",
   "metadata": {},
   "outputs": [],
   "source": []
  },
  {
   "cell_type": "code",
   "execution_count": 17,
   "id": "2efb0a88",
   "metadata": {},
   "outputs": [],
   "source": [
    "roles = {\n",
    "    \"target\": \"total_delay\"\n",
    "}"
   ]
  },
  {
   "cell_type": "code",
   "execution_count": 18,
   "id": "e1c62ce1",
   "metadata": {},
   "outputs": [],
   "source": [
    "task = Task(\n",
    "    \"binary\",\n",
    ")"
   ]
  },
  {
   "cell_type": "code",
   "execution_count": 19,
   "id": "a8e5325c",
   "metadata": {},
   "outputs": [],
   "source": [
    "automl = TabularAutoML(\n",
    "    task=task,\n",
    "    timeout=6000,\n",
    "    general_params={\n",
    "        \"use_algos\": [[\"lgb\"]]\n",
    "    },\n",
    "    nested_cv_params={\"cv\": 2, \"n_folds\": None},\n",
    ")"
   ]
  },
  {
   "cell_type": "code",
   "execution_count": 20,
   "id": "b1d60e3f",
   "metadata": {},
   "outputs": [
    {
     "name": "stdout",
     "output_type": "stream",
     "text": [
      "tdf ctr\n",
      "<class 'lightautoml.transformers.base.UnionTransformer'>\n",
      "<class 'lightautoml.transformers.base.UnionTransformer'>\n"
     ]
    }
   ],
   "source": [
    "oof_pred = automl.fit_predict(train, roles=roles)"
   ]
  },
  {
   "cell_type": "code",
   "execution_count": 21,
   "id": "93445529",
   "metadata": {},
   "outputs": [],
   "source": [
    "test_pred = automl.predict(test)"
   ]
  },
  {
   "cell_type": "code",
   "execution_count": 22,
   "id": "b38e9484",
   "metadata": {},
   "outputs": [],
   "source": [
    "not_nan = np.any(~np.isnan(oof_pred.data), axis=1)"
   ]
  },
  {
   "cell_type": "code",
   "execution_count": 23,
   "id": "d263c27f",
   "metadata": {},
   "outputs": [
    {
     "name": "stdout",
     "output_type": "stream",
     "text": [
      "OOF score: 0.6944394386738393\n",
      "TEST score: 0.7038865488142378\n"
     ]
    }
   ],
   "source": [
    "print(f\"OOF score: {roc_auc_score(train[roles['target']].values[not_nan], oof_pred.data[not_nan][:, 0])}\")\n",
    "print(f\"TEST score: {roc_auc_score(test[roles['target']].values, test_pred.data[:, 0])}\")"
   ]
  },
  {
   "cell_type": "code",
   "execution_count": null,
   "id": "d4e2528b",
   "metadata": {},
   "outputs": [],
   "source": []
  },
  {
   "cell_type": "code",
   "execution_count": null,
   "id": "52deef1c",
   "metadata": {},
   "outputs": [],
   "source": []
  },
  {
   "cell_type": "code",
   "execution_count": null,
   "id": "0d2bb56e",
   "metadata": {},
   "outputs": [],
   "source": []
  },
  {
   "cell_type": "code",
   "execution_count": null,
   "id": "c3847f44",
   "metadata": {},
   "outputs": [],
   "source": []
  },
  {
   "cell_type": "code",
   "execution_count": null,
   "id": "f0b5ad3e",
   "metadata": {},
   "outputs": [],
   "source": []
  },
  {
   "cell_type": "code",
   "execution_count": null,
   "id": "46a889a8",
   "metadata": {},
   "outputs": [],
   "source": []
  },
  {
   "cell_type": "code",
   "execution_count": null,
   "id": "4d053b8e",
   "metadata": {},
   "outputs": [],
   "source": []
  },
  {
   "cell_type": "code",
   "execution_count": null,
   "id": "e93076eb",
   "metadata": {},
   "outputs": [],
   "source": []
  },
  {
   "cell_type": "code",
   "execution_count": null,
   "id": "3dd68c0e",
   "metadata": {},
   "outputs": [],
   "source": []
  },
  {
   "cell_type": "code",
   "execution_count": null,
   "id": "c6fc72e7",
   "metadata": {},
   "outputs": [],
   "source": []
  }
 ],
 "metadata": {
  "kernelspec": {
   "display_name": "Python 3 (ipykernel)",
   "language": "python",
   "name": "python3"
  },
  "language_info": {
   "codemirror_mode": {
    "name": "ipython",
    "version": 3
   },
   "file_extension": ".py",
   "mimetype": "text/x-python",
   "name": "python",
   "nbconvert_exporter": "python",
   "pygments_lexer": "ipython3",
   "version": "3.8.10"
  }
 },
 "nbformat": 4,
 "nbformat_minor": 5
}
