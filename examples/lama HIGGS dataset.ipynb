{
 "cells": [
  {
   "cell_type": "code",
   "execution_count": 1,
   "id": "39969315",
   "metadata": {},
   "outputs": [],
   "source": [
    "import numpy as np\n",
    "import pandas as pd\n",
    "\n",
    "from sklearn.metrics import roc_auc_score\n",
    "from sklearn.model_selection import train_test_split\n",
    "\n",
    "from lightautoml.automl.presets.tabular_presets import TabularAutoML\n",
    "from lightautoml.dataset.roles import DatetimeRole\n",
    "from lightautoml.tasks import Task"
   ]
  },
  {
   "cell_type": "code",
   "execution_count": 2,
   "id": "ad859e99",
   "metadata": {},
   "outputs": [],
   "source": [
    "np.random.seed(42)"
   ]
  },
  {
   "cell_type": "code",
   "execution_count": 3,
   "id": "51df8e6a",
   "metadata": {},
   "outputs": [],
   "source": [
    "data = pd.read_csv(\"/opt/spark_data/HIGGS.csv\", header=None, prefix = 'Column_', nrows=1_000_000)"
   ]
  },
  {
   "cell_type": "code",
   "execution_count": 4,
   "id": "6d38a60a",
   "metadata": {},
   "outputs": [
    {
     "data": {
      "text/plain": [
       "1000000"
      ]
     },
     "execution_count": 4,
     "metadata": {},
     "output_type": "execute_result"
    }
   ],
   "source": [
    "len(data)"
   ]
  },
  {
   "cell_type": "code",
   "execution_count": 5,
   "id": "9bd401d6",
   "metadata": {},
   "outputs": [],
   "source": [
    "train, test = train_test_split(data, test_size=200_000, random_state=42)"
   ]
  },
  {
   "cell_type": "code",
   "execution_count": 6,
   "id": "078147aa",
   "metadata": {},
   "outputs": [
    {
     "name": "stdout",
     "output_type": "stream",
     "text": [
      "800000\n",
      "200000\n"
     ]
    }
   ],
   "source": [
    "print(len(train))\n",
    "print(len(test))"
   ]
  },
  {
   "cell_type": "code",
   "execution_count": 7,
   "id": "c89acbc7",
   "metadata": {},
   "outputs": [
    {
     "data": {
      "text/html": [
       "<div>\n",
       "<style scoped>\n",
       "    .dataframe tbody tr th:only-of-type {\n",
       "        vertical-align: middle;\n",
       "    }\n",
       "\n",
       "    .dataframe tbody tr th {\n",
       "        vertical-align: top;\n",
       "    }\n",
       "\n",
       "    .dataframe thead th {\n",
       "        text-align: right;\n",
       "    }\n",
       "</style>\n",
       "<table border=\"1\" class=\"dataframe\">\n",
       "  <thead>\n",
       "    <tr style=\"text-align: right;\">\n",
       "      <th></th>\n",
       "      <th>Column_0</th>\n",
       "      <th>Column_1</th>\n",
       "      <th>Column_2</th>\n",
       "      <th>Column_3</th>\n",
       "      <th>Column_4</th>\n",
       "      <th>Column_5</th>\n",
       "      <th>Column_6</th>\n",
       "      <th>Column_7</th>\n",
       "      <th>Column_8</th>\n",
       "      <th>Column_9</th>\n",
       "      <th>...</th>\n",
       "      <th>Column_19</th>\n",
       "      <th>Column_20</th>\n",
       "      <th>Column_21</th>\n",
       "      <th>Column_22</th>\n",
       "      <th>Column_23</th>\n",
       "      <th>Column_24</th>\n",
       "      <th>Column_25</th>\n",
       "      <th>Column_26</th>\n",
       "      <th>Column_27</th>\n",
       "      <th>Column_28</th>\n",
       "    </tr>\n",
       "  </thead>\n",
       "  <tbody>\n",
       "    <tr>\n",
       "      <th>987231</th>\n",
       "      <td>0.0</td>\n",
       "      <td>1.205664</td>\n",
       "      <td>-1.169791</td>\n",
       "      <td>0.015953</td>\n",
       "      <td>0.591559</td>\n",
       "      <td>-1.154139</td>\n",
       "      <td>0.452631</td>\n",
       "      <td>-0.141628</td>\n",
       "      <td>0.914326</td>\n",
       "      <td>0.000000</td>\n",
       "      <td>...</td>\n",
       "      <td>0.495069</td>\n",
       "      <td>0.348878</td>\n",
       "      <td>3.101961</td>\n",
       "      <td>0.915096</td>\n",
       "      <td>0.791421</td>\n",
       "      <td>1.016853</td>\n",
       "      <td>0.877905</td>\n",
       "      <td>0.922745</td>\n",
       "      <td>0.852537</td>\n",
       "      <td>0.777144</td>\n",
       "    </tr>\n",
       "    <tr>\n",
       "      <th>79954</th>\n",
       "      <td>1.0</td>\n",
       "      <td>0.937373</td>\n",
       "      <td>-1.523341</td>\n",
       "      <td>1.383686</td>\n",
       "      <td>1.053063</td>\n",
       "      <td>0.554343</td>\n",
       "      <td>2.004091</td>\n",
       "      <td>-2.284486</td>\n",
       "      <td>-1.723497</td>\n",
       "      <td>0.000000</td>\n",
       "      <td>...</td>\n",
       "      <td>-1.286340</td>\n",
       "      <td>0.040347</td>\n",
       "      <td>0.000000</td>\n",
       "      <td>0.483557</td>\n",
       "      <td>0.750305</td>\n",
       "      <td>0.988924</td>\n",
       "      <td>0.494695</td>\n",
       "      <td>0.735078</td>\n",
       "      <td>0.806357</td>\n",
       "      <td>0.675272</td>\n",
       "    </tr>\n",
       "    <tr>\n",
       "      <th>567130</th>\n",
       "      <td>1.0</td>\n",
       "      <td>0.850992</td>\n",
       "      <td>-1.590545</td>\n",
       "      <td>-1.461748</td>\n",
       "      <td>0.558573</td>\n",
       "      <td>0.545128</td>\n",
       "      <td>1.099378</td>\n",
       "      <td>-1.043728</td>\n",
       "      <td>-0.588137</td>\n",
       "      <td>2.173076</td>\n",
       "      <td>...</td>\n",
       "      <td>-1.666940</td>\n",
       "      <td>0.699583</td>\n",
       "      <td>0.000000</td>\n",
       "      <td>0.536244</td>\n",
       "      <td>1.222684</td>\n",
       "      <td>0.985939</td>\n",
       "      <td>1.143061</td>\n",
       "      <td>1.932193</td>\n",
       "      <td>1.225894</td>\n",
       "      <td>1.000200</td>\n",
       "    </tr>\n",
       "    <tr>\n",
       "      <th>500891</th>\n",
       "      <td>0.0</td>\n",
       "      <td>0.464660</td>\n",
       "      <td>0.297006</td>\n",
       "      <td>0.595228</td>\n",
       "      <td>2.033882</td>\n",
       "      <td>-0.480508</td>\n",
       "      <td>0.470037</td>\n",
       "      <td>0.247532</td>\n",
       "      <td>-0.136873</td>\n",
       "      <td>1.086538</td>\n",
       "      <td>...</td>\n",
       "      <td>-0.349414</td>\n",
       "      <td>-1.248819</td>\n",
       "      <td>0.000000</td>\n",
       "      <td>1.277576</td>\n",
       "      <td>0.976491</td>\n",
       "      <td>1.109844</td>\n",
       "      <td>1.008831</td>\n",
       "      <td>0.950556</td>\n",
       "      <td>0.775099</td>\n",
       "      <td>0.778901</td>\n",
       "    </tr>\n",
       "    <tr>\n",
       "      <th>55399</th>\n",
       "      <td>1.0</td>\n",
       "      <td>0.860875</td>\n",
       "      <td>0.421674</td>\n",
       "      <td>-1.339679</td>\n",
       "      <td>0.655404</td>\n",
       "      <td>1.008641</td>\n",
       "      <td>0.560545</td>\n",
       "      <td>0.974361</td>\n",
       "      <td>1.180980</td>\n",
       "      <td>0.000000</td>\n",
       "      <td>...</td>\n",
       "      <td>-1.600314</td>\n",
       "      <td>0.693479</td>\n",
       "      <td>0.000000</td>\n",
       "      <td>0.924148</td>\n",
       "      <td>1.059373</td>\n",
       "      <td>0.990987</td>\n",
       "      <td>0.886394</td>\n",
       "      <td>0.663309</td>\n",
       "      <td>0.879856</td>\n",
       "      <td>0.764028</td>\n",
       "    </tr>\n",
       "  </tbody>\n",
       "</table>\n",
       "<p>5 rows × 29 columns</p>\n",
       "</div>"
      ],
      "text/plain": [
       "        Column_0  Column_1  Column_2  Column_3  Column_4  Column_5  Column_6  \\\n",
       "987231       0.0  1.205664 -1.169791  0.015953  0.591559 -1.154139  0.452631   \n",
       "79954        1.0  0.937373 -1.523341  1.383686  1.053063  0.554343  2.004091   \n",
       "567130       1.0  0.850992 -1.590545 -1.461748  0.558573  0.545128  1.099378   \n",
       "500891       0.0  0.464660  0.297006  0.595228  2.033882 -0.480508  0.470037   \n",
       "55399        1.0  0.860875  0.421674 -1.339679  0.655404  1.008641  0.560545   \n",
       "\n",
       "        Column_7  Column_8  Column_9  ...  Column_19  Column_20  Column_21  \\\n",
       "987231 -0.141628  0.914326  0.000000  ...   0.495069   0.348878   3.101961   \n",
       "79954  -2.284486 -1.723497  0.000000  ...  -1.286340   0.040347   0.000000   \n",
       "567130 -1.043728 -0.588137  2.173076  ...  -1.666940   0.699583   0.000000   \n",
       "500891  0.247532 -0.136873  1.086538  ...  -0.349414  -1.248819   0.000000   \n",
       "55399   0.974361  1.180980  0.000000  ...  -1.600314   0.693479   0.000000   \n",
       "\n",
       "        Column_22  Column_23  Column_24  Column_25  Column_26  Column_27  \\\n",
       "987231   0.915096   0.791421   1.016853   0.877905   0.922745   0.852537   \n",
       "79954    0.483557   0.750305   0.988924   0.494695   0.735078   0.806357   \n",
       "567130   0.536244   1.222684   0.985939   1.143061   1.932193   1.225894   \n",
       "500891   1.277576   0.976491   1.109844   1.008831   0.950556   0.775099   \n",
       "55399    0.924148   1.059373   0.990987   0.886394   0.663309   0.879856   \n",
       "\n",
       "        Column_28  \n",
       "987231   0.777144  \n",
       "79954    0.675272  \n",
       "567130   1.000200  \n",
       "500891   0.778901  \n",
       "55399    0.764028  \n",
       "\n",
       "[5 rows x 29 columns]"
      ]
     },
     "execution_count": 7,
     "metadata": {},
     "output_type": "execute_result"
    }
   ],
   "source": [
    "test.head()"
   ]
  },
  {
   "cell_type": "code",
   "execution_count": null,
   "id": "26d7554a",
   "metadata": {},
   "outputs": [],
   "source": [
    "train.columns"
   ]
  },
  {
   "cell_type": "code",
   "execution_count": null,
   "id": "8ffdc3cc",
   "metadata": {},
   "outputs": [],
   "source": []
  },
  {
   "cell_type": "code",
   "execution_count": 8,
   "id": "2efb0a88",
   "metadata": {},
   "outputs": [],
   "source": [
    "roles = {\n",
    "    \"target\": \"Column_0\"\n",
    "}"
   ]
  },
  {
   "cell_type": "code",
   "execution_count": 9,
   "id": "e1c62ce1",
   "metadata": {},
   "outputs": [],
   "source": [
    "task = Task(\n",
    "    \"binary\",\n",
    ")"
   ]
  },
  {
   "cell_type": "code",
   "execution_count": 10,
   "id": "a8e5325c",
   "metadata": {},
   "outputs": [],
   "source": [
    "automl = TabularAutoML(\n",
    "    task=task,\n",
    "    timeout=6000,\n",
    "    general_params={\n",
    "        \"use_algos\": [[\"lgb\"]]\n",
    "    },\n",
    "    nested_cv_params={\"cv\": 2, \"n_folds\": None},\n",
    ")"
   ]
  },
  {
   "cell_type": "code",
   "execution_count": 11,
   "id": "b1d60e3f",
   "metadata": {},
   "outputs": [
    {
     "name": "stdout",
     "output_type": "stream",
     "text": [
      "tdf ctr\n",
      "<class 'lightautoml.transformers.base.UnionTransformer'>\n",
      "<class 'lightautoml.transformers.base.UnionTransformer'>\n"
     ]
    }
   ],
   "source": [
    "oof_pred = automl.fit_predict(train, roles=roles)"
   ]
  },
  {
   "cell_type": "code",
   "execution_count": 12,
   "id": "93445529",
   "metadata": {},
   "outputs": [],
   "source": [
    "test_pred = automl.predict(test)"
   ]
  },
  {
   "cell_type": "code",
   "execution_count": 13,
   "id": "b38e9484",
   "metadata": {},
   "outputs": [],
   "source": [
    "not_nan = np.any(~np.isnan(oof_pred.data), axis=1)"
   ]
  },
  {
   "cell_type": "code",
   "execution_count": 14,
   "id": "d263c27f",
   "metadata": {},
   "outputs": [
    {
     "name": "stdout",
     "output_type": "stream",
     "text": [
      "OOF score: 0.8314776225531073\n",
      "TEST score: 0.83619988900382\n"
     ]
    }
   ],
   "source": [
    "print(f\"OOF score: {roc_auc_score(train[roles['target']].values[not_nan], oof_pred.data[not_nan][:, 0])}\")\n",
    "print(f\"TEST score: {roc_auc_score(test[roles['target']].values, test_pred.data[:, 0])}\")"
   ]
  },
  {
   "cell_type": "code",
   "execution_count": null,
   "id": "d4e2528b",
   "metadata": {},
   "outputs": [],
   "source": []
  },
  {
   "cell_type": "code",
   "execution_count": null,
   "id": "52deef1c",
   "metadata": {},
   "outputs": [],
   "source": []
  },
  {
   "cell_type": "code",
   "execution_count": null,
   "id": "0d2bb56e",
   "metadata": {},
   "outputs": [],
   "source": []
  },
  {
   "cell_type": "code",
   "execution_count": null,
   "id": "c3847f44",
   "metadata": {},
   "outputs": [],
   "source": []
  },
  {
   "cell_type": "code",
   "execution_count": null,
   "id": "f0b5ad3e",
   "metadata": {},
   "outputs": [],
   "source": []
  },
  {
   "cell_type": "code",
   "execution_count": null,
   "id": "46a889a8",
   "metadata": {},
   "outputs": [],
   "source": []
  },
  {
   "cell_type": "code",
   "execution_count": null,
   "id": "4d053b8e",
   "metadata": {},
   "outputs": [],
   "source": []
  },
  {
   "cell_type": "code",
   "execution_count": null,
   "id": "e93076eb",
   "metadata": {},
   "outputs": [],
   "source": []
  },
  {
   "cell_type": "code",
   "execution_count": null,
   "id": "3dd68c0e",
   "metadata": {},
   "outputs": [],
   "source": []
  },
  {
   "cell_type": "code",
   "execution_count": null,
   "id": "c6fc72e7",
   "metadata": {},
   "outputs": [],
   "source": []
  }
 ],
 "metadata": {
  "kernelspec": {
   "display_name": "Python 3 (ipykernel)",
   "language": "python",
   "name": "python3"
  },
  "language_info": {
   "codemirror_mode": {
    "name": "ipython",
    "version": 3
   },
   "file_extension": ".py",
   "mimetype": "text/x-python",
   "name": "python",
   "nbconvert_exporter": "python",
   "pygments_lexer": "ipython3",
   "version": "3.8.10"
  }
 },
 "nbformat": 4,
 "nbformat_minor": 5
}
